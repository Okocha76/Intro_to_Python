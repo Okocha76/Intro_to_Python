{
  "nbformat": 4,
  "nbformat_minor": 0,
  "metadata": {
    "colab": {
      "name": "14_generators.ipynb",
      "provenance": [],
      "collapsed_sections": []
    },
    "kernelspec": {
      "name": "python3",
      "display_name": "Python 3"
    }
  },
  "cells": [
    {
      "cell_type": "markdown",
      "metadata": {
        "id": "I6RHEpi4wdtx",
        "colab_type": "text"
      },
      "source": [
        "# Generators\n",
        "\n",
        "Generators are custom iterators.\n",
        "\n",
        "- Generator Function\n",
        "- Generator Expression\n",
        "- [Reinventing the Parser Generator | YouTube.com](https://www.youtube.com/watch?v=zJ9z6Ge-vXs) David Beazley\n"
      ]
    },
    {
      "cell_type": "markdown",
      "metadata": {
        "id": "5hdwsPueMMcx",
        "colab_type": "text"
      },
      "source": [
        "Generators are one way to make a function or expression that can be iterated in a loop or with the `next()` function.\n",
        "\n",
        "- [Python Generators | python.org](https://wiki.python.org/moin/Generators)"
      ]
    },
    {
      "cell_type": "markdown",
      "metadata": {
        "id": "nfiq-xmJ4aEo",
        "colab_type": "text"
      },
      "source": [
        "## Generator Functions"
      ]
    },
    {
      "cell_type": "code",
      "metadata": {
        "id": "nJLF3OAxwaeX",
        "colab_type": "code",
        "colab": {}
      },
      "source": [
        "def counter_gen():\n",
        "    count = 0\n",
        "    while True:\n",
        "        count += 1\n",
        "        yield count\n"
      ],
      "execution_count": 0,
      "outputs": []
    },
    {
      "cell_type": "code",
      "metadata": {
        "id": "O7BT1YuI1CS2",
        "colab_type": "code",
        "outputId": "6995ff80-3b1e-43b1-8e28-6bae5e1b5c1f",
        "colab": {
          "base_uri": "https://localhost:8080/",
          "height": 187
        }
      },
      "source": [
        "for count in counter_gen():\n",
        "    print(count)\n",
        "    if count >= 10:\n",
        "        break"
      ],
      "execution_count": 0,
      "outputs": [
        {
          "output_type": "stream",
          "text": [
            "1\n",
            "2\n",
            "3\n",
            "4\n",
            "5\n",
            "6\n",
            "7\n",
            "8\n",
            "9\n",
            "10\n"
          ],
          "name": "stdout"
        }
      ]
    },
    {
      "cell_type": "markdown",
      "metadata": {
        "id": "2ZMaMchB2-CV",
        "colab_type": "text"
      },
      "source": [
        "Generator functions will not remember where they left off from one call to the next."
      ]
    },
    {
      "cell_type": "code",
      "metadata": {
        "id": "cQZdj2Tl3EZ_",
        "colab_type": "code",
        "outputId": "de0eed20-d555-4fb2-cbc0-679e1b27baea",
        "colab": {
          "base_uri": "https://localhost:8080/",
          "height": 187
        }
      },
      "source": [
        "for count in counter_gen():\n",
        "    print(count)\n",
        "    if count >= 10:\n",
        "        break"
      ],
      "execution_count": 0,
      "outputs": [
        {
          "output_type": "stream",
          "text": [
            "1\n",
            "2\n",
            "3\n",
            "4\n",
            "5\n",
            "6\n",
            "7\n",
            "8\n",
            "9\n",
            "10\n"
          ],
          "name": "stdout"
        }
      ]
    },
    {
      "cell_type": "markdown",
      "metadata": {
        "id": "SLp9O9QzI1La",
        "colab_type": "text"
      },
      "source": [
        "But there is a way to make them remember! Memoization. This ability is not unique to generator functions, you can memoize any function."
      ]
    },
    {
      "cell_type": "code",
      "metadata": {
        "id": "nP0iU22_3lRP",
        "colab_type": "code",
        "colab": {}
      },
      "source": [
        "def smart_counter_gen():\n",
        "    if not hasattr(smart_counter_gen, \"count\"):\n",
        "        smart_counter_gen.count = 0\n",
        "    while True:\n",
        "        smart_counter_gen.count += 1\n",
        "        yield smart_counter_gen.count"
      ],
      "execution_count": 0,
      "outputs": []
    },
    {
      "cell_type": "code",
      "metadata": {
        "id": "Nfj_ItBm3wCJ",
        "colab_type": "code",
        "outputId": "48bf90b0-1aea-4722-b5b1-35d903291acc",
        "colab": {
          "base_uri": "https://localhost:8080/",
          "height": 187
        }
      },
      "source": [
        "for count in smart_counter_gen():\n",
        "    print(count)\n",
        "    if count >= 10:\n",
        "        break"
      ],
      "execution_count": 0,
      "outputs": [
        {
          "output_type": "stream",
          "text": [
            "1\n",
            "2\n",
            "3\n",
            "4\n",
            "5\n",
            "6\n",
            "7\n",
            "8\n",
            "9\n",
            "10\n"
          ],
          "name": "stdout"
        }
      ]
    },
    {
      "cell_type": "code",
      "metadata": {
        "id": "GYivdvEs356q",
        "colab_type": "code",
        "outputId": "55c926bb-bb3a-406a-bded-d61a9fc95cba",
        "colab": {
          "base_uri": "https://localhost:8080/",
          "height": 187
        }
      },
      "source": [
        "for count in smart_counter_gen():\n",
        "    print(count)\n",
        "    if count >= 20:\n",
        "        break"
      ],
      "execution_count": 0,
      "outputs": [
        {
          "output_type": "stream",
          "text": [
            "11\n",
            "12\n",
            "13\n",
            "14\n",
            "15\n",
            "16\n",
            "17\n",
            "18\n",
            "19\n",
            "20\n"
          ],
          "name": "stdout"
        }
      ]
    },
    {
      "cell_type": "markdown",
      "metadata": {
        "id": "qvWqLejYKE6C",
        "colab_type": "text"
      },
      "source": [
        "What if we wanted a way to reset the counter?"
      ]
    },
    {
      "cell_type": "code",
      "metadata": {
        "id": "cH3hIgtTKIru",
        "colab_type": "code",
        "colab": {}
      },
      "source": [
        "def smart_counter(reset=False):\n",
        "    if reset or not hasattr(smart_counter, \"count\"):\n",
        "        smart_counter.count = 0\n",
        "    while True:\n",
        "        smart_counter.count += 1\n",
        "        yield smart_counter.count"
      ],
      "execution_count": 0,
      "outputs": []
    },
    {
      "cell_type": "code",
      "metadata": {
        "id": "ZGlQVNjsKPbL",
        "colab_type": "code",
        "outputId": "5686d414-89e0-463b-ff2b-20e4d062d1fa",
        "colab": {
          "base_uri": "https://localhost:8080/",
          "height": 187
        }
      },
      "source": [
        "for count in smart_counter():\n",
        "    print(count)\n",
        "    if count >= 10:\n",
        "        break"
      ],
      "execution_count": 0,
      "outputs": [
        {
          "output_type": "stream",
          "text": [
            "1\n",
            "2\n",
            "3\n",
            "4\n",
            "5\n",
            "6\n",
            "7\n",
            "8\n",
            "9\n",
            "10\n"
          ],
          "name": "stdout"
        }
      ]
    },
    {
      "cell_type": "code",
      "metadata": {
        "id": "QeVNz7lvKSn0",
        "colab_type": "code",
        "outputId": "21999dbd-a505-459f-df47-9dc5d1c1622b",
        "colab": {
          "base_uri": "https://localhost:8080/",
          "height": 187
        }
      },
      "source": [
        "for count in smart_counter(reset=True):\n",
        "    print(count)\n",
        "    if count >= 10:\n",
        "        break"
      ],
      "execution_count": 0,
      "outputs": [
        {
          "output_type": "stream",
          "text": [
            "1\n",
            "2\n",
            "3\n",
            "4\n",
            "5\n",
            "6\n",
            "7\n",
            "8\n",
            "9\n",
            "10\n"
          ],
          "name": "stdout"
        }
      ]
    },
    {
      "cell_type": "code",
      "metadata": {
        "id": "XrYlzN2UKdDk",
        "colab_type": "code",
        "outputId": "660bbbec-0a40-4b9f-f754-2da55778e7dc",
        "colab": {
          "base_uri": "https://localhost:8080/",
          "height": 187
        }
      },
      "source": [
        "for count in smart_counter():\n",
        "    print(count)\n",
        "    if count >= 20:\n",
        "        break"
      ],
      "execution_count": 0,
      "outputs": [
        {
          "output_type": "stream",
          "text": [
            "11\n",
            "12\n",
            "13\n",
            "14\n",
            "15\n",
            "16\n",
            "17\n",
            "18\n",
            "19\n",
            "20\n"
          ],
          "name": "stdout"
        }
      ]
    },
    {
      "cell_type": "markdown",
      "metadata": {
        "id": "ULlLzgy04WHp",
        "colab_type": "text"
      },
      "source": [
        "## Generator Expressions\n",
        "\n",
        "Generator expressions look a lot like tuple comprehensions, but there is no such thing as a tuple comprehension in Python. Generator expressions can be a little tricky at first because they can only be evaluated once and this can be a subtle problem as there will be no error - it just wont do what you want after the first evaluation."
      ]
    },
    {
      "cell_type": "code",
      "metadata": {
        "id": "YnhBdl901KuP",
        "colab_type": "code",
        "outputId": "9fedf651-3b4b-44e9-8f42-1870c4a932cf",
        "colab": {
          "base_uri": "https://localhost:8080/",
          "height": 187
        }
      },
      "source": [
        "square_gen = (i*i for i in range(1, 11))\n",
        "\n",
        "for square in square_gen:\n",
        "    print(square)"
      ],
      "execution_count": 0,
      "outputs": [
        {
          "output_type": "stream",
          "text": [
            "1\n",
            "4\n",
            "9\n",
            "16\n",
            "25\n",
            "36\n",
            "49\n",
            "64\n",
            "81\n",
            "100\n"
          ],
          "name": "stdout"
        }
      ]
    },
    {
      "cell_type": "code",
      "metadata": {
        "id": "Ft16kPt22NMB",
        "colab_type": "code",
        "colab": {}
      },
      "source": [
        "for square in square_gen:\n",
        "    print(square)  # Prints Nothing! The generator is empty."
      ],
      "execution_count": 0,
      "outputs": []
    },
    {
      "cell_type": "code",
      "metadata": {
        "id": "OaUwylyh73Rt",
        "colab_type": "code",
        "colab": {}
      },
      "source": [
        ""
      ],
      "execution_count": 0,
      "outputs": []
    },
    {
      "cell_type": "markdown",
      "metadata": {
        "id": "iMg6jLMy8Q66",
        "colab_type": "text"
      },
      "source": [
        "### Generator Expression that works like a Generator Function\n",
        "\n",
        "To make a generator expression or any iterator that can be used more than once, we must wrap it in a callable, like a lambda. Every time we call this lambda a new generator is created for us. This gives the added ability to parameterize the generator expression."
      ]
    },
    {
      "cell_type": "code",
      "metadata": {
        "id": "cxL8tOVm8ZxQ",
        "colab_type": "code",
        "colab": {}
      },
      "source": [
        "square_gen = lambda n: (i*i for i in range(n+1))"
      ],
      "execution_count": 0,
      "outputs": []
    },
    {
      "cell_type": "code",
      "metadata": {
        "id": "NLnfij6U6YDK",
        "colab_type": "code",
        "outputId": "a6c7ff18-c835-4a8f-8f84-9212079afcaa",
        "colab": {
          "base_uri": "https://localhost:8080/",
          "height": 187
        }
      },
      "source": [
        "for square in square_gen(9):\n",
        "    print(square)"
      ],
      "execution_count": 0,
      "outputs": [
        {
          "output_type": "stream",
          "text": [
            "0\n",
            "1\n",
            "4\n",
            "9\n",
            "16\n",
            "25\n",
            "36\n",
            "49\n",
            "64\n",
            "81\n"
          ],
          "name": "stdout"
        }
      ]
    },
    {
      "cell_type": "code",
      "metadata": {
        "id": "HZPayF1w6q66",
        "colab_type": "code",
        "outputId": "3f1dd511-7926-4359-c16f-b3eb9b6f21f0",
        "colab": {
          "base_uri": "https://localhost:8080/",
          "height": 119
        }
      },
      "source": [
        "for square in square_gen(5):\n",
        "    print(square)"
      ],
      "execution_count": 0,
      "outputs": [
        {
          "output_type": "stream",
          "text": [
            "0\n",
            "1\n",
            "4\n",
            "9\n",
            "16\n",
            "25\n"
          ],
          "name": "stdout"
        }
      ]
    }
  ]
}