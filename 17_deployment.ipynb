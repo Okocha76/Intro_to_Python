{
  "nbformat": 4,
  "nbformat_minor": 0,
  "metadata": {
    "colab": {
      "name": "17_deployment.ipynb",
      "provenance": [],
      "collapsed_sections": []
    },
    "kernelspec": {
      "name": "python3",
      "display_name": "Python 3"
    }
  },
  "cells": [
    {
      "cell_type": "markdown",
      "metadata": {
        "id": "ahCxeF83xJiK",
        "colab_type": "text"
      },
      "source": [
        "# Module Installation & Deployment\n",
        "\n",
        "PyPi is also known as the cheese shop. This is the Python Package Index, a public repository for Python.\n",
        "\n",
        "- [Python Packaging | python.org](https://packaging.python.org/tutorials/packaging-projects/)\n",
        "- [Classifiers | Pypi.org](https://pypi.org/classifiers/)\n",
        "- [Twine | python.org](https://packaging.python.org/tutorials/packaging-projects/#uploading-the-distribution-archives)\n",
        "- [Pip | python.org](https://pip.pypa.io/en/stable/)\n",
        "- [Python Packaging | YouTube.com](https://youtu.be/4fzAMdLKC5k) Dave Forgac"
      ]
    },
    {
      "cell_type": "markdown",
      "metadata": {
        "id": "3EvoHKE-dWUn",
        "colab_type": "text"
      },
      "source": [
        "You will need three files:\n",
        "- `setup.py` Installation Script\n",
        "- `awesome.py` Your Module\n",
        "- `README.md` Module Documentation"
      ]
    },
    {
      "cell_type": "markdown",
      "metadata": {
        "id": "qPlp3lkPLRQg",
        "colab_type": "text"
      },
      "source": [
        "```python\n",
        "# File: setup.py\n",
        "import setuptools\n",
        "\n",
        "with open(\"README.md\", \"r\") as f:\n",
        "    long_description = f.read()\n",
        "\n",
        "setuptools.setup(\n",
        "    name=\"awesome\",  # this is the project name on PyPi\n",
        "    module=\"awesome\",  # this is the 'import' name\n",
        "    author=\"One Awesome Developer\",\n",
        "    author_email=\"you@yourdomain.com\",\n",
        "    version=\"0.0.1\",\n",
        "    description=\"Awesome module with an awesome function!\",\n",
        "    long_description=long_description,\n",
        "    long_description_content_type=\"text/markdown\",\n",
        "    classifiers=[\"Development Status :: 1 - Planning\"],\n",
        "    python_requires='>=3.6',\n",
        ")\n",
        "```\n",
        "\n",
        "```python\n",
        "# File: awesome.py\n",
        "\n",
        "def awesome_function(x):\n",
        "    return x\n",
        "```\n",
        "\n",
        "```python\n",
        "# File: README.md\n",
        "AWESOME MODULE\n",
        "\n",
        "Text about this awesome project...\n",
        "- elevator pitch\n",
        "- development history\n",
        "- other goodies\n",
        "```\n",
        "\n",
        "Installation with pip:\n",
        "\n",
        "First navigate to the directory containing your module. Then open a terminal and enter the following command.\n",
        "```\n",
        "$ pip install .\n",
        "...\n",
        "```\n",
        "This alone does not upload anything anywhere, it installs your module on your system. If you're using a virtual environment, make sure you initialize that environment before attepting to install into it. You may need to specify `pip3` not `pip` if you have pip installed to a Python2 instance somewhere on your system. This is common on Mac.\n",
        "\n",
        "Once your module is installed - Python should be able to 'see' your module from anywhere on your system.\n",
        "\n",
        "```python\n",
        "$ python3\n",
        ">>> from awesome import awesome_function\n",
        ">>> awesome_function(42)\n",
        "42\n",
        "```\n",
        "\n",
        "After you install and test your module locally, you can build it for the masses. To build and upload to PyPi with setup & twine, enter the following commands. The first line below will build your module as a wheel. This the modern way to create a cross platform distribution. The second line below will instruct twine to upload your module to PyPi, you will need to have created an account for this next part to work. [Register at PyPi.org](https://pypi.org/account/register/). Twine will ask for your credentials.\n",
        "\n",
        "```\n",
        "$ python3 setup.py sdist bdist_wheel\n",
        "...\n",
        "$ twine upload dist/*\n",
        "...\n",
        "```\n",
        "\n",
        "Now that our awesome module is built and hosted on PyPi we can install it pretty much anywhere, even on our friend's computer - assuming they have Python3.\n",
        "\n",
        "\n",
        "```python\n",
        "$ pip install awesome\n",
        "...\n",
        "$ python3\n",
        ">>> from awesome import awesome_function\n",
        ">>> awesome_function(42)\n",
        "42\n",
        "```"
      ]
    }
  ]
}