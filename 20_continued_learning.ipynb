{
  "nbformat": 4,
  "nbformat_minor": 0,
  "metadata": {
    "colab": {
      "name": "20_continued_learning.ipynb",
      "provenance": [],
      "collapsed_sections": []
    },
    "kernelspec": {
      "name": "python3",
      "display_name": "Python 3"
    }
  },
  "cells": [
    {
      "cell_type": "markdown",
      "metadata": {
        "id": "9JneeY7CyY87",
        "colab_type": "text"
      },
      "source": [
        "# Continued Learning\n",
        "\n"
      ]
    },
    {
      "cell_type": "markdown",
      "metadata": {
        "id": "qMB1R2jfKpzv",
        "colab_type": "text"
      },
      "source": [
        "## Conference Videos\n",
        "- [PyCon | YouTube.com](https://www.youtube.com/channel/UCxs2IIVXaEHHA4BtTiWZ2mQ/videos)\n",
        "- [PyData | YouTube.com](https://www.youtube.com/user/PyDataTV/videos)\n"
      ]
    },
    {
      "cell_type": "markdown",
      "metadata": {
        "id": "JSTdJvPoKpSS",
        "colab_type": "text"
      },
      "source": [
        "## Python Guru Videos\n",
        "- [Removing Python's GIL: The Gilectomy](https://youtu.be/P3AyI_u66Bw) Larry Hastings\n",
        "- [The Gilectomy How's It Going](https://youtu.be/pLqv11ScGsQ) Larry Hastings\n",
        "- [The Mental Game of Python | YouTube.com](https://youtu.be/UANN2Eu6ZnM) Raymond Hettinger\n",
        "- [Lambda Calculus | YouTube.com](https://youtu.be/pkCLMl0e_0k) David Beazley \n",
        "- [The Fun of Reinvention | YouTube.com](https://youtu.be/js_0wjzuMfc) David Beazely"
      ]
    }
  ]
}