{
  "nbformat": 4,
  "nbformat_minor": 0,
  "metadata": {
    "colab": {
      "name": "13_iterators.ipynb",
      "provenance": [],
      "collapsed_sections": []
    },
    "kernelspec": {
      "name": "python3",
      "display_name": "Python 3"
    }
  },
  "cells": [
    {
      "cell_type": "markdown",
      "metadata": {
        "id": "K8Gvk-KiwRZF",
        "colab_type": "text"
      },
      "source": [
        "# Iterators & Iterables\n",
        "\n",
        "- All iterators are iterable, but not all iterables are iterators.\n",
        "- Iterators have state. They remember where they left off and can continue.\n",
        "- Lists and tuples are iterable but they are not iterators.\n",
        "- The `iter()` function can turn an iterable into an iterator.\n",
        "- Iterators have a `__next__()` method. \n",
        "- The builtin `next()` function will advance an iterator and return its 'next' value.\n",
        "- [Iterators and Iterables | YouTube.com](https://youtu.be/jTYiNjvnHZY) Corey Schafer\n",
        "\n",
        "\n",
        "## Itertools Module\n",
        "- `count()`\n",
        "- `cycle()`\n",
        "- `combinations()`\n",
        "- `combinations_with_replacement()`\n",
        "- `permutation()`\n",
        "- `islice()`\n",
        "- `accumulate()`\n",
        "- `starmap()`"
      ]
    },
    {
      "cell_type": "markdown",
      "metadata": {
        "id": "9i7NDP96-iti",
        "colab_type": "text"
      },
      "source": [
        "## Iterable vs Iterator"
      ]
    },
    {
      "cell_type": "code",
      "metadata": {
        "id": "vAxHrVq3y_O9",
        "colab_type": "code",
        "colab": {}
      },
      "source": [
        "def is_iterable(obj):\n",
        "    \"\"\" Returns True if the object is iterable. \"\"\"\n",
        "    return '__iter__' in dir(obj)\n",
        "\n",
        "\n",
        "def is_iterator(obj):\n",
        "    \"\"\" Returns True if the object is an iterator. \"\"\"\n",
        "    return '__next__' in dir(obj)\n"
      ],
      "execution_count": 0,
      "outputs": []
    },
    {
      "cell_type": "code",
      "metadata": {
        "id": "2V6htu-K8De7",
        "colab_type": "code",
        "outputId": "0bcbac9f-738f-4e4e-8583-a4467179a0b5",
        "colab": {
          "base_uri": "https://localhost:8080/",
          "height": 51
        }
      },
      "source": [
        "print(\"Iterable:\", is_iterable(range(10)))\n",
        "print(\"Iterator:\", is_iterator(range(10)))"
      ],
      "execution_count": 0,
      "outputs": [
        {
          "output_type": "stream",
          "text": [
            "Iterable: True\n",
            "Iterator: False\n"
          ],
          "name": "stdout"
        }
      ]
    },
    {
      "cell_type": "markdown",
      "metadata": {
        "id": "_Kseyz_G-b8l",
        "colab_type": "text"
      },
      "source": [
        "Turn an iterable into an iterator with the `iter()` function."
      ]
    },
    {
      "cell_type": "code",
      "metadata": {
        "id": "S5ReqnCw749D",
        "colab_type": "code",
        "outputId": "311b97db-6d94-4fe3-fd47-ead758be1a08",
        "colab": {
          "base_uri": "https://localhost:8080/",
          "height": 51
        }
      },
      "source": [
        "print(\"Iterable:\", is_iterable(iter(range(10))))\n",
        "print(\"Iterator:\", is_iterator(iter(range(10))))"
      ],
      "execution_count": 0,
      "outputs": [
        {
          "output_type": "stream",
          "text": [
            "Iterable: True\n",
            "Iterator: True\n"
          ],
          "name": "stdout"
        }
      ]
    },
    {
      "cell_type": "markdown",
      "metadata": {
        "id": "mGTQ2hWL9gwI",
        "colab_type": "text"
      },
      "source": [
        "Above `iter(range(start, stop, step))` is similar to `itertools.count(start, step)` below. Both can take a starting point and a step parameter and both are iterable. However the range function requires a stopping point and count does not. More importantly, count is an iterator, and range is not - unless we make it so."
      ]
    },
    {
      "cell_type": "markdown",
      "metadata": {
        "id": "TRjQPr8qO8Zg",
        "colab_type": "text"
      },
      "source": [
        "### Iterators Can Continue - this is the key to iterators!\n",
        "\n",
        "Plain iterables can not do this."
      ]
    },
    {
      "cell_type": "code",
      "metadata": {
        "id": "dpCTIbYKeNrT",
        "colab_type": "code",
        "colab": {}
      },
      "source": [
        "import itertools"
      ],
      "execution_count": 0,
      "outputs": []
    },
    {
      "cell_type": "code",
      "metadata": {
        "id": "EL8neUQa6Dmt",
        "colab_type": "code",
        "outputId": "91276d21-6927-4a54-e10e-7b2effbbc1b7",
        "colab": {
          "base_uri": "https://localhost:8080/",
          "height": 187
        }
      },
      "source": [
        "counter = itertools.count(1)\n",
        "for _ in range(10):\n",
        "    print(next(counter))"
      ],
      "execution_count": 0,
      "outputs": [
        {
          "output_type": "stream",
          "text": [
            "1\n",
            "2\n",
            "3\n",
            "4\n",
            "5\n",
            "6\n",
            "7\n",
            "8\n",
            "9\n",
            "10\n"
          ],
          "name": "stdout"
        }
      ]
    },
    {
      "cell_type": "code",
      "metadata": {
        "id": "cs0XaY1_6Xz7",
        "colab_type": "code",
        "outputId": "3b73d25a-b97b-4465-a864-1df0631b9e7e",
        "colab": {
          "base_uri": "https://localhost:8080/",
          "height": 187
        }
      },
      "source": [
        "# The counter knows where it stopped, and can continue\n",
        "# This is the special sause of being an iterator.\n",
        "for _ in range(10):\n",
        "    print(next(counter))"
      ],
      "execution_count": 0,
      "outputs": [
        {
          "output_type": "stream",
          "text": [
            "11\n",
            "12\n",
            "13\n",
            "14\n",
            "15\n",
            "16\n",
            "17\n",
            "18\n",
            "19\n",
            "20\n"
          ],
          "name": "stdout"
        }
      ]
    },
    {
      "cell_type": "markdown",
      "metadata": {
        "id": "QtCdpPX5Nk-R",
        "colab_type": "text"
      },
      "source": [
        "Cycle will continue rotating through an iterable indefinately. Since cycle is an iterator it will remember where it stops and can continue on from there at a later time."
      ]
    },
    {
      "cell_type": "code",
      "metadata": {
        "id": "gOpIwlC9NO_Y",
        "colab_type": "code",
        "outputId": "388d8d4c-991b-4d2e-ea6b-e7e546f67ad8",
        "colab": {
          "base_uri": "https://localhost:8080/",
          "height": 85
        }
      },
      "source": [
        "it = itertools.cycle((\"Alpha\", \"Beta\", \"Gamma\"))\n",
        "\n",
        "for _ in range(4):\n",
        "    print(next(it))"
      ],
      "execution_count": 0,
      "outputs": [
        {
          "output_type": "stream",
          "text": [
            "Alpha\n",
            "Beta\n",
            "Gamma\n",
            "Alpha\n"
          ],
          "name": "stdout"
        }
      ]
    },
    {
      "cell_type": "markdown",
      "metadata": {
        "id": "Rq-sIJKeOgtq",
        "colab_type": "text"
      },
      "source": [
        "Notice below how the second for loop will begin with \"Beta\" since we last saw \"Alpha\" and \"Beta\" is next in the sequence."
      ]
    },
    {
      "cell_type": "code",
      "metadata": {
        "id": "owQC2ahON-71",
        "colab_type": "code",
        "outputId": "7ce5c36e-5dd2-49d4-f48d-1d2b529ccf36",
        "colab": {
          "base_uri": "https://localhost:8080/",
          "height": 85
        }
      },
      "source": [
        "for _ in range(4):\n",
        "    print(next(it))"
      ],
      "execution_count": 0,
      "outputs": [
        {
          "output_type": "stream",
          "text": [
            "Beta\n",
            "Gamma\n",
            "Alpha\n",
            "Beta\n"
          ],
          "name": "stdout"
        }
      ]
    },
    {
      "cell_type": "markdown",
      "metadata": {
        "id": "LHeNcgnTPc_J",
        "colab_type": "text"
      },
      "source": [
        "If we did this again, what would it start with?"
      ]
    },
    {
      "cell_type": "code",
      "metadata": {
        "id": "e-kqSmphPutM",
        "colab_type": "code",
        "outputId": "5eecd853-57e3-460b-ea26-aa4aa4b18632",
        "colab": {
          "base_uri": "https://localhost:8080/",
          "height": 187
        }
      },
      "source": [
        "my_iter_range = iter(range(10))\n",
        "\n",
        "for itm in my_iter_range:\n",
        "    print(itm)"
      ],
      "execution_count": 0,
      "outputs": [
        {
          "output_type": "stream",
          "text": [
            "0\n",
            "1\n",
            "2\n",
            "3\n",
            "4\n",
            "5\n",
            "6\n",
            "7\n",
            "8\n",
            "9\n"
          ],
          "name": "stdout"
        }
      ]
    },
    {
      "cell_type": "code",
      "metadata": {
        "id": "LLYOlRGaL38K",
        "colab_type": "code",
        "colab": {}
      },
      "source": [
        "for itm in my_iter_range:\n",
        "    print(itm)"
      ],
      "execution_count": 0,
      "outputs": []
    },
    {
      "cell_type": "markdown",
      "metadata": {
        "id": "aQQe7m38L67k",
        "colab_type": "text"
      },
      "source": [
        "Nothing is printed because `my_iter_range` is exhausted!"
      ]
    },
    {
      "cell_type": "markdown",
      "metadata": {
        "id": "UN1Atp9PGsFd",
        "colab_type": "text"
      },
      "source": [
        "### Unpacking with Star\n",
        "\n",
        "Like sequences, iterators can be unpacked with the `*`. Be careful not to unpack an infinite iterator! `*itertools.count()` would like to go on and on forever. If this happens use the `control-c` command, this will stop Python. If you let it continue, eventually your computer will run out of memory and crash. This will not hurt your computer, but it might be rather embarrassing. In some cases `control-c` won't work, and you may need to force quit Python."
      ]
    },
    {
      "cell_type": "code",
      "metadata": {
        "id": "Mo8Vb0oF0AIw",
        "colab_type": "code",
        "outputId": "d0350dac-accd-4006-b5de-bc159325f993",
        "colab": {
          "base_uri": "https://localhost:8080/",
          "height": 119
        }
      },
      "source": [
        "it = itertools.combinations((1,2,3,4), 2)\n",
        "print(*it, sep='\\n')"
      ],
      "execution_count": 0,
      "outputs": [
        {
          "output_type": "stream",
          "text": [
            "(1, 2)\n",
            "(1, 3)\n",
            "(1, 4)\n",
            "(2, 3)\n",
            "(2, 4)\n",
            "(3, 4)\n"
          ],
          "name": "stdout"
        }
      ]
    },
    {
      "cell_type": "code",
      "metadata": {
        "id": "EESGV64HzVlo",
        "colab_type": "code",
        "outputId": "c2c396bb-a2af-48fa-ccfb-f6bc2b007ac7",
        "colab": {
          "base_uri": "https://localhost:8080/",
          "height": 187
        }
      },
      "source": [
        "it = itertools.combinations_with_replacement((1,2,3,4), 2)\n",
        "print(*it, sep='\\n')"
      ],
      "execution_count": 0,
      "outputs": [
        {
          "output_type": "stream",
          "text": [
            "(1, 1)\n",
            "(1, 2)\n",
            "(1, 3)\n",
            "(1, 4)\n",
            "(2, 2)\n",
            "(2, 3)\n",
            "(2, 4)\n",
            "(3, 3)\n",
            "(3, 4)\n",
            "(4, 4)\n"
          ],
          "name": "stdout"
        }
      ]
    },
    {
      "cell_type": "code",
      "metadata": {
        "id": "e06EZaWn0IZK",
        "colab_type": "code",
        "outputId": "549b7290-2d36-44a5-a580-d85e19783a70",
        "colab": {
          "base_uri": "https://localhost:8080/",
          "height": 221
        }
      },
      "source": [
        "it = itertools.permutations((1,2,3,4), 2)\n",
        "print(*it, sep='\\n')"
      ],
      "execution_count": 0,
      "outputs": [
        {
          "output_type": "stream",
          "text": [
            "(1, 2)\n",
            "(1, 3)\n",
            "(1, 4)\n",
            "(2, 1)\n",
            "(2, 3)\n",
            "(2, 4)\n",
            "(3, 1)\n",
            "(3, 2)\n",
            "(3, 4)\n",
            "(4, 1)\n",
            "(4, 2)\n",
            "(4, 3)\n"
          ],
          "name": "stdout"
        }
      ]
    },
    {
      "cell_type": "markdown",
      "metadata": {
        "id": "0pNN2vlfLG5B",
        "colab_type": "text"
      },
      "source": [
        "### Slice An Iterator\n",
        "\n",
        "`itertools.islice()` is used to slice an iterator. It's pronounced \"i-slice\" not \"is-lice\" - if you're curious."
      ]
    },
    {
      "cell_type": "code",
      "metadata": {
        "id": "N11HEZs23W3u",
        "colab_type": "code",
        "outputId": "100d979e-3b86-48f6-9f14-36e8d51b54de",
        "colab": {
          "base_uri": "https://localhost:8080/",
          "height": 34
        }
      },
      "source": [
        "start, stop, step = 50, 101, 5\n",
        "it = itertools.islice(itertools.count(), start, stop, step)\n",
        "print(*it, sep=', ')"
      ],
      "execution_count": 0,
      "outputs": [
        {
          "output_type": "stream",
          "text": [
            "50, 55, 60, 65, 70, 75, 80, 85, 90, 95, 100\n"
          ],
          "name": "stdout"
        }
      ]
    },
    {
      "cell_type": "markdown",
      "metadata": {
        "id": "-Of7BeyUTT1B",
        "colab_type": "text"
      },
      "source": [
        "This is an amazing ability and saves us from casting the iterator to a list so we can slice it. Casting would take more time and memory - possibly a lot more. It also pretty much defeats the purpose of using an iterator as you can't call next on a list or continue where it left off. While debugging, however, it can be very useful to cast an iterator to a list just to see its guts."
      ]
    },
    {
      "cell_type": "markdown",
      "metadata": {
        "id": "UvcFYXP1bmpE",
        "colab_type": "text"
      },
      "source": [
        "### Partial Sum\n",
        "\n",
        "Partial Sum can be used to transform relative weights into cumulative weights."
      ]
    },
    {
      "cell_type": "code",
      "metadata": {
        "id": "aLfXTvUual8O",
        "colab_type": "code",
        "colab": {}
      },
      "source": [
        "import operator"
      ],
      "execution_count": 0,
      "outputs": []
    },
    {
      "cell_type": "code",
      "metadata": {
        "id": "K3hgW-55cp7O",
        "colab_type": "code",
        "outputId": "5ec5ce53-4bde-4944-826b-d9e747c0e17b",
        "colab": {
          "base_uri": "https://localhost:8080/",
          "height": 34
        }
      },
      "source": [
        "# Relative\n",
        "rel_weights = list(range(1, 11))\n",
        "print(rel_weights)"
      ],
      "execution_count": 0,
      "outputs": [
        {
          "output_type": "stream",
          "text": [
            "[1, 2, 3, 4, 5, 6, 7, 8, 9, 10]\n"
          ],
          "name": "stdout"
        }
      ]
    },
    {
      "cell_type": "code",
      "metadata": {
        "id": "qh4FSd5MKQlc",
        "colab_type": "code",
        "outputId": "54cfd18a-a9ef-4c45-faa2-bc5d3739daba",
        "colab": {
          "base_uri": "https://localhost:8080/",
          "height": 34
        }
      },
      "source": [
        "# Cumulative\n",
        "partial_sum = itertools.accumulate(rel_weights, operator.add)\n",
        "cum_weights = list(partial_sum)\n",
        "print(cum_weights)"
      ],
      "execution_count": 0,
      "outputs": [
        {
          "output_type": "stream",
          "text": [
            "[1, 3, 6, 10, 15, 21, 28, 36, 45, 55]\n"
          ],
          "name": "stdout"
        }
      ]
    },
    {
      "cell_type": "markdown",
      "metadata": {
        "id": "JWDXQuP2btcv",
        "colab_type": "text"
      },
      "source": [
        "### Adjacent Difference\n",
        "Adjacent Difference can be used to transform cumulative weights back into relative weights."
      ]
    },
    {
      "cell_type": "code",
      "metadata": {
        "id": "YmsxsvM8UKDr",
        "colab_type": "code",
        "outputId": "4917afb3-026f-42fd-c1b0-227bc63e1321",
        "colab": {
          "base_uri": "https://localhost:8080/",
          "height": 34
        }
      },
      "source": [
        "# Back to Relative\n",
        "adjacent_diff = itertools.starmap(\n",
        "    operator.sub, zip(cum_weights, [0] + cum_weights))\n",
        "rel_weights = list(adjacent_diff)\n",
        "print(rel_weights)"
      ],
      "execution_count": 0,
      "outputs": [
        {
          "output_type": "stream",
          "text": [
            "[1, 2, 3, 4, 5, 6, 7, 8, 9, 10]\n"
          ],
          "name": "stdout"
        }
      ]
    },
    {
      "cell_type": "markdown",
      "metadata": {
        "id": "rDYCup6hwAoj",
        "colab_type": "text"
      },
      "source": [
        "## Groupby Example"
      ]
    },
    {
      "cell_type": "code",
      "metadata": {
        "id": "JGuyuHCgwDBA",
        "colab_type": "code",
        "colab": {}
      },
      "source": [
        "party_of_casters = [\n",
        "    {\n",
        "        \"name\": \"Gandolf\",\n",
        "        \"class\": \"Wizard\",\n",
        "        \"alignment\": \"Good\",\n",
        "    }, {\n",
        "        \"name\": \"Habius\",\n",
        "        \"class\": \"Cleric\",\n",
        "        \"alignment\": \"Evil\",\n",
        "    }, {\n",
        "        \"name\": \"Merlin\",\n",
        "        \"class\": \"Wizard\",\n",
        "        \"alignment\": \"Good\",\n",
        "    }, {\n",
        "        \"name\": \"Raven\",\n",
        "        \"class\": \"Druid\",\n",
        "        \"alignment\": \"Neutral\",\n",
        "    }, {\n",
        "        \"name\": \"Morgause\",\n",
        "        \"class\": \"Sorceress\",\n",
        "        \"alignment\": \"Evil\",\n",
        "    }, {\n",
        "        \"name\": \"Jinx\",\n",
        "        \"class\": \"Warlock\",\n",
        "        \"alignment\": \"Evil\",\n",
        "    }, {\n",
        "        \"name\": \"Zoaster\",\n",
        "        \"class\": \"Cleric\",\n",
        "        \"alignment\": \"Good\",\n",
        "    },\n",
        "]"
      ],
      "execution_count": 0,
      "outputs": []
    },
    {
      "cell_type": "code",
      "metadata": {
        "id": "oVjrs6XNxyfe",
        "colab_type": "code",
        "outputId": "1dce4fdc-00bb-4651-fcad-5b40959444f9",
        "colab": {
          "base_uri": "https://localhost:8080/",
          "height": 102
        }
      },
      "source": [
        "party_of_casters = sorted(\n",
        "    party_of_casters, key=lambda p: (p['class'], p['name']))\n",
        "\n",
        "class_groups = itertools.groupby(\n",
        "    party_of_casters, lambda p: p['class'])\n",
        "\n",
        "for class_name, players in class_groups:\n",
        "    print(f\"{class_name}:\", end=' ')\n",
        "    print(*(p['name'] for p in players), sep=', ')"
      ],
      "execution_count": 0,
      "outputs": [
        {
          "output_type": "stream",
          "text": [
            "Cleric: Habius, Zoaster\n",
            "Druid: Raven\n",
            "Sorceress: Morgause\n",
            "Warlock: Jinx\n",
            "Wizard: Gandolf, Merlin\n"
          ],
          "name": "stdout"
        }
      ]
    },
    {
      "cell_type": "code",
      "metadata": {
        "id": "9ZwhRiUQyHTT",
        "colab_type": "code",
        "outputId": "86d00ca3-1c2d-4217-9b4c-c872dc146286",
        "colab": {
          "base_uri": "https://localhost:8080/",
          "height": 68
        }
      },
      "source": [
        "party_of_casters = sorted(\n",
        "    party_of_casters, key=lambda p: (p['alignment'], p['name']))\n",
        "\n",
        "align_groups = itertools.groupby(\n",
        "    party_of_casters, lambda p: p['alignment'])\n",
        "\n",
        "for align, players in align_groups:\n",
        "    print(f\"{align}:\", end=' ')\n",
        "    print(*(p['name'] for p in players), sep=', ')"
      ],
      "execution_count": 0,
      "outputs": [
        {
          "output_type": "stream",
          "text": [
            "Evil: Habius, Jinx, Morgause\n",
            "Good: Gandolf, Merlin, Zoaster\n",
            "Neutral: Raven\n"
          ],
          "name": "stdout"
        }
      ]
    },
    {
      "cell_type": "code",
      "metadata": {
        "id": "n1NmDgto1Ysy",
        "colab_type": "code",
        "colab": {}
      },
      "source": [
        ""
      ],
      "execution_count": 0,
      "outputs": []
    }
  ]
}