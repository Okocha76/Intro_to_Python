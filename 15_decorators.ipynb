{
  "nbformat": 4,
  "nbformat_minor": 0,
  "metadata": {
    "colab": {
      "name": "15_decorators.ipynb",
      "provenance": [],
      "collapsed_sections": []
    },
    "kernelspec": {
      "name": "python3",
      "display_name": "Python 3"
    }
  },
  "cells": [
    {
      "cell_type": "markdown",
      "metadata": {
        "id": "UzAZL23Vw7eo",
        "colab_type": "text"
      },
      "source": [
        "# Decorators\n",
        "\n",
        "- Function Decorator\n",
        "- Class Decorator\n",
        "\n",
        "Decorators allow us to modify existing classes or functions without redefining them.\n",
        "\n",
        "- [Practical decorators | YouTube.com](https://youtu.be/MjHpMCIvwsY) Reuven M. Lerner"
      ]
    },
    {
      "cell_type": "markdown",
      "metadata": {
        "id": "C_UEDVdPO-Bx",
        "colab_type": "text"
      },
      "source": [
        "## Function Decorator\n",
        "\n",
        "The `@wraps` decorator helps by copying the meta data of our function so that the decorated version works properly with the help system: `help(some_function)` will be the same as `help(some_decorated_function)`.\n",
        "\n",
        "### Logger Example"
      ]
    },
    {
      "cell_type": "code",
      "metadata": {
        "id": "bRu-50v7w2QJ",
        "colab_type": "code",
        "colab": {}
      },
      "source": [
        "from functools import wraps\n",
        "from inspect import signature\n",
        "\n",
        "\n",
        "def logger(func):\n",
        "    \"\"\" Function Decorator for Logging \"\"\"\n",
        "\n",
        "    @wraps(func)  # preserves meta data of the func\n",
        "    def wrapper(*args, **kwargs):\n",
        "        result = func(*args, **kwargs)\n",
        "        arg_obj = signature(func).bind(*args, **kwargs).arguments.items()\n",
        "        print(f\"LOG: {func.__name__}\", end='(')\n",
        "        print(', '.join(f'{k}={v}' for k, v in arg_obj), end=') ')\n",
        "        print(f\"is {result}\")\n",
        "        return result\n",
        "\n",
        "    return wrapper"
      ],
      "execution_count": 0,
      "outputs": []
    },
    {
      "cell_type": "markdown",
      "metadata": {
        "id": "0wMBINGnlhV8",
        "colab_type": "text"
      },
      "source": [
        "### Logger Usage"
      ]
    },
    {
      "cell_type": "code",
      "metadata": {
        "id": "1MF2pNGyQm_Y",
        "colab_type": "code",
        "colab": {}
      },
      "source": [
        "# Before: No Logging\n",
        "def mul(x, y):\n",
        "    \"\"\" Multiplies x by y. \"\"\"\n",
        "    return x * y\n",
        "\n",
        "var = mul(2, 3)"
      ],
      "execution_count": 0,
      "outputs": []
    },
    {
      "cell_type": "code",
      "metadata": {
        "id": "f8ojKH1_kRM0",
        "colab_type": "code",
        "colab": {}
      },
      "source": [
        "# Nothing Printed"
      ],
      "execution_count": 0,
      "outputs": []
    },
    {
      "cell_type": "code",
      "metadata": {
        "id": "oDQ_2ckKQvEA",
        "colab_type": "code",
        "outputId": "96e74160-2e40-448d-8c52-fada1cc2e040",
        "colab": {
          "base_uri": "https://localhost:8080/",
          "height": 68
        }
      },
      "source": [
        "# After: Logging Enabled\n",
        "@logger\n",
        "def mul(x, y):\n",
        "    \"\"\" Multiplies x by y. \"\"\"\n",
        "    return x * y\n",
        "\n",
        "var1 = mul(2, 3)\n",
        "var2 = mul(4, y=3)\n",
        "var3 = mul(x=6, y=5)"
      ],
      "execution_count": 0,
      "outputs": [
        {
          "output_type": "stream",
          "text": [
            "LOG: mul(x=2, y=3) is 6\n",
            "LOG: mul(x=4, y=3) is 12\n",
            "LOG: mul(x=6, y=5) is 30\n"
          ],
          "name": "stdout"
        }
      ]
    },
    {
      "cell_type": "markdown",
      "metadata": {
        "id": "RJlHpwD5XQbM",
        "colab_type": "text"
      },
      "source": [
        "#### Help with `@wraps` decorator.\n",
        "```python\n",
        "help(mul)\n",
        "```\n",
        "```\n",
        "Help on function mul in module __main__:\n",
        "\n",
        "mul(x, y)\n",
        "    Multiplies x by y.\n",
        "```"
      ]
    },
    {
      "cell_type": "markdown",
      "metadata": {
        "id": "CbhwMG0uXIRG",
        "colab_type": "text"
      },
      "source": [
        "#### Help without `@wraps` decorator.\n",
        "```python\n",
        "help(mul)\n",
        "```\n",
        "```\n",
        "Help on function wrapper in module __main__:\n",
        "\n",
        "wrapper(*args)\n",
        "    # @wraps(func)\n",
        "```"
      ]
    },
    {
      "cell_type": "markdown",
      "metadata": {
        "id": "IpNN2jT4PB1p",
        "colab_type": "text"
      },
      "source": [
        "## Function Decorator Class\n",
        "### Function Cache: Memoization Example"
      ]
    },
    {
      "cell_type": "code",
      "metadata": {
        "id": "6Zn6xdmUPIw3",
        "colab_type": "code",
        "colab": {}
      },
      "source": [
        "import pickle\n",
        "\n",
        "\n",
        "class Cache:\n",
        "    \"\"\" Function Cache \"\"\"\n",
        "\n",
        "    def __init__(self, function):\n",
        "        self.cache = {}\n",
        "        self.function = function\n",
        "        self.__doc__ = function.__doc__\n",
        "\n",
        "    def __call__(self, *args, **kwargs):\n",
        "        key = (pickle.dumps(args), pickle.dumps(kwargs))\n",
        "        if key in self.cache:\n",
        "            result = self.cache[key]\n",
        "        else:\n",
        "            result = self.cache[key] = self.function(*args, **kwargs)\n",
        "            print(f\"Cached Value: {result}\")\n",
        "        return result\n"
      ],
      "execution_count": 0,
      "outputs": []
    },
    {
      "cell_type": "code",
      "metadata": {
        "id": "-Q1eHolJxKPi",
        "colab_type": "code",
        "outputId": "2a25d50b-ab2d-4fb3-ebe3-592b88c8c24a",
        "colab": {
          "base_uri": "https://localhost:8080/",
          "height": 255
        }
      },
      "source": [
        "@Cache\n",
        "def fib(n):\n",
        "    \"\"\" Recursive Fibonacci \"\"\"\n",
        "    return 1 if n < 3 else fib(n - 1) + fib(n - 2)\n",
        "\n",
        "\n",
        "print(fib(10))\n",
        "print(fib(12))  # Notice the cache only caches new values."
      ],
      "execution_count": 0,
      "outputs": [
        {
          "output_type": "stream",
          "text": [
            "Cached Value: 1\n",
            "Cached Value: 1\n",
            "Cached Value: 2\n",
            "Cached Value: 3\n",
            "Cached Value: 5\n",
            "Cached Value: 8\n",
            "Cached Value: 13\n",
            "Cached Value: 21\n",
            "Cached Value: 34\n",
            "Cached Value: 55\n",
            "55\n",
            "Cached Value: 89\n",
            "Cached Value: 144\n",
            "144\n"
          ],
          "name": "stdout"
        }
      ]
    },
    {
      "cell_type": "code",
      "metadata": {
        "id": "3laVKHaZ5HCw",
        "colab_type": "code",
        "colab": {}
      },
      "source": [
        ""
      ],
      "execution_count": 0,
      "outputs": []
    }
  ]
}